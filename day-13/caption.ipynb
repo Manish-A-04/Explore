{
 "cells": [
  {
   "cell_type": "code",
   "execution_count": 1,
   "metadata": {},
   "outputs": [],
   "source": [
    "from langchain.prompts import ChatPromptTemplate\n",
    "from google import genai\n",
    "from PIL import Image\n",
    "from langchain_google_genai.llms import GoogleGenerativeAI\n",
    "from langchain.chains.combine_documents import create_stuff_documents_chain\n",
    "from langchain.chains.retrieval import create_retrieval_chain\n",
    "from langchain_ollama.embeddings import OllamaEmbeddings\n",
    "from langchain.vectorstores import Chroma\n",
    "from dotenv import load_dotenv\n",
    "import os\n",
    "\n",
    "load_dotenv()\n",
    "\n",
    "\n",
    "image = Image.open(\"family.jpeg\")\n",
    "\n",
    "client = genai.Client(api_key=os.getenv(\"GOOGLE_API_KEY\"))\n",
    "response = client.models.generate_content(\n",
    "    model=\"gemini-2.0-flash\",\n",
    "    contents=[\"What is this image?\", image])\n",
    "\n",
    "text = response.text"
   ]
  },
  {
   "cell_type": "code",
   "execution_count": 2,
   "metadata": {},
   "outputs": [
    {
     "data": {
      "text/plain": [
       "['The image shows a family of five lying on the',\n",
       " 'on the ground in a park or outdoor setting. The',\n",
       " 'The father is lying on the bottom, with one child',\n",
       " 'one child sitting on his back. The mother and two',\n",
       " 'and two other children are next to them, all',\n",
       " 'them, all smiling at the camera. The ground is',\n",
       " 'ground is covered with grass and fallen leaves,',\n",
       " 'leaves, suggesting it is autumn. The background',\n",
       " 'is blurred, with trees showing autumn colors.']"
      ]
     },
     "execution_count": 2,
     "metadata": {},
     "output_type": "execute_result"
    }
   ],
   "source": [
    "from langchain.text_splitter import RecursiveCharacterTextSplitter\n",
    "\n",
    "text_splitter = RecursiveCharacterTextSplitter(chunk_size = 50 , chunk_overlap = 10)\n",
    "text = text_splitter.split_text(text)\n",
    "text"
   ]
  },
  {
   "cell_type": "code",
   "execution_count": 3,
   "metadata": {},
   "outputs": [
    {
     "data": {
      "text/plain": [
       "[Document(metadata={}, page_content='leaves, suggesting it is autumn. The background'),\n",
       " Document(metadata={}, page_content='is blurred, with trees showing autumn colors.'),\n",
       " Document(metadata={}, page_content='ground is covered with grass and fallen leaves,'),\n",
       " Document(metadata={}, page_content='on the ground in a park or outdoor setting. The')]"
      ]
     },
     "execution_count": 3,
     "metadata": {},
     "output_type": "execute_result"
    }
   ],
   "source": [
    "\n",
    "db = Chroma.from_texts(text , OllamaEmbeddings(model=\"nomic-embed-text\"))\n",
    "ret = db.as_retriever()\n",
    "db.similarity_search(\"autumn\")"
   ]
  },
  {
   "cell_type": "code",
   "execution_count": 5,
   "metadata": {},
   "outputs": [],
   "source": [
    "\n",
    "prompt = ChatPromptTemplate.from_template(\n",
    "    \"\"\"\n",
    "Based on the given image description explain the user's queries,\n",
    "Make sure to explain it in detail.\n",
    "Dont try to go beyond what is asked.\n",
    "Image:\n",
    "{context}\n",
    "Query:\n",
    "{input}\n",
    "\"\"\"\n",
    ")\n",
    "llm = GoogleGenerativeAI(model=\"gemini-2.0-flash\")\n",
    "\n",
    "\n",
    "\n",
    "\n",
    "combine = create_stuff_documents_chain(llm = llm , prompt=prompt)\n",
    "retrieval_chain = create_retrieval_chain(ret , combine_docs_chain=combine )"
   ]
  },
  {
   "cell_type": "code",
   "execution_count": 6,
   "metadata": {},
   "outputs": [
    {
     "data": {
      "text/plain": [
       "{'input': 'What is in the image?',\n",
       " 'context': [Document(metadata={}, page_content='The image shows a family of five lying on the'),\n",
       "  Document(metadata={}, page_content='leaves, suggesting it is autumn. The background'),\n",
       "  Document(metadata={}, page_content='is blurred, with trees showing autumn colors.'),\n",
       "  Document(metadata={}, page_content='them, all smiling at the camera. The ground is')],\n",
       " 'answer': 'The user\\'s query \"What is in the image?\" is asking for a description of the visual elements present in the provided image. Based on the image description you gave, the response should include that there is a family of five lying on leaves, indicating it\\'s autumn. The background has blurred trees with autumn colors. The family is smiling at the camera.\\n'}"
      ]
     },
     "execution_count": 6,
     "metadata": {},
     "output_type": "execute_result"
    }
   ],
   "source": [
    "retrieval_chain.invoke({\"input\":\"What is in the image?\"})"
   ]
  },
  {
   "cell_type": "code",
   "execution_count": null,
   "metadata": {},
   "outputs": [],
   "source": []
  }
 ],
 "metadata": {
  "kernelspec": {
   "display_name": "Python 3",
   "language": "python",
   "name": "python3"
  },
  "language_info": {
   "codemirror_mode": {
    "name": "ipython",
    "version": 3
   },
   "file_extension": ".py",
   "mimetype": "text/x-python",
   "name": "python",
   "nbconvert_exporter": "python",
   "pygments_lexer": "ipython3",
   "version": "3.12.6"
  }
 },
 "nbformat": 4,
 "nbformat_minor": 2
}
