{
 "cells": [
  {
   "cell_type": "code",
   "execution_count": null,
   "metadata": {},
   "outputs": [],
   "source": [
    "import os\n",
    "from langchain_google_genai.chat_models import ChatGoogleGenerativeAI\n",
    "from langchain.chains import LLMMathChain \n",
    "from langchain.agents import Tool, initialize_agent\n",
    "from dotenv import load_dotenv\n"
   ]
  },
  {
   "cell_type": "code",
   "execution_count": 21,
   "metadata": {},
   "outputs": [],
   "source": [
    "load_dotenv()\n",
    "\n",
    "llm = ChatGoogleGenerativeAI( model = \"gemini-2.0-flash\" )\n"
   ]
  },
  {
   "cell_type": "code",
   "execution_count": 22,
   "metadata": {},
   "outputs": [
    {
     "name": "stderr",
     "output_type": "stream",
     "text": [
      "c:\\Users\\hp\\Lib\\site-packages\\langchain\\chains\\llm_math\\base.py:175: UserWarning: Directly instantiating an LLMMathChain with an llm is deprecated. Please instantiate with llm_chain argument or using the from_llm class method.\n",
      "  warnings.warn(\n"
     ]
    }
   ],
   "source": [
    "math_chain = LLMMathChain(llm=llm, verbose=True)"
   ]
  },
  {
   "cell_type": "code",
   "execution_count": 17,
   "metadata": {},
   "outputs": [],
   "source": [
    "def solve_math_problem(problem: str) -> str:\n",
    "    return math_chain.run(problem)\n",
    "\n",
    "math_solver_tool = Tool(\n",
    "    name=\"MathSolver\",\n",
    "    func=solve_math_problem,\n",
    "    description=\"Solves math problems and word problems with detailed explanations.\"\n",
    ")\n"
   ]
  },
  {
   "cell_type": "code",
   "execution_count": null,
   "metadata": {},
   "outputs": [],
   "source": [
    "agent = initialize_agent(\n",
    "    tools = [math_solver_tool],\n",
    "    llm  = llm,\n",
    "    verbose = True\n",
    ")"
   ]
  },
  {
   "cell_type": "code",
   "execution_count": 26,
   "metadata": {},
   "outputs": [],
   "source": [
    "\n",
    "def main():\n",
    "    global math_chain, agent, math_solver_tool\n",
    "    print()\n",
    "    while True:\n",
    "        user_input = input(\">> \").strip()\n",
    "        if user_input.lower() == \"exit\":\n",
    "            print(\"Goodbye!\")\n",
    "            break\n",
    "        try:\n",
    "            result = agent.run(user_input)\n",
    "            print(result)\n",
    "        except Exception as e:\n",
    "            print(f\"Error processing the problem: {e}\")"
   ]
  },
  {
   "cell_type": "code",
   "execution_count": 27,
   "metadata": {},
   "outputs": [
    {
     "name": "stdout",
     "output_type": "stream",
     "text": [
      "\n",
      "\n",
      "\n",
      "\u001b[1m> Entering new AgentExecutor chain...\u001b[0m\n",
      "\u001b[32;1m\u001b[1;3mI need to find the derivative of the given function. I can use the power rule and the sum/difference rule of differentiation.\n",
      "\n",
      "Action: MathSolver\n",
      "Action Input: Differentiate 3x² + 5x - 7\u001b[0m\n",
      "\n",
      "\u001b[1m> Entering new LLMMathChain chain...\u001b[0m\n",
      "Differentiate 3x² + 5x - 7\u001b[32;1m\u001b[1;3m```text\n",
      "6 * x + 5\n",
      "```\n",
      "...numexpr.evaluate(\"6 * x + 5\", local_dict={'x': 1})...\u001b[0mError processing the problem: LLMMathChain._evaluate(\"\n",
      "6 * x + 5\n",
      "\") raised error: 'x'. Please try again with a valid numerical expression\n",
      "\n",
      "\n",
      "\u001b[1m> Entering new AgentExecutor chain...\u001b[0m\n",
      "\u001b[32;1m\u001b[1;3mTo find the average speed, I need to divide the total distance traveled by the total time taken. The distance is 120 km and the time is 2 hours.\n",
      "\n",
      "Action: MathSolver\n",
      "Action Input: \"120 km / 2 hours\"\u001b[0m\n",
      "\n",
      "\u001b[1m> Entering new LLMMathChain chain...\u001b[0m\n",
      "120 km / 2 hours\u001b[32;1m\u001b[1;3m```text\n",
      "120 / 2\n",
      "```\n",
      "...numexpr.evaluate(\"120 / 2\")...\u001b[0m\n",
      "Answer: \u001b[33;1m\u001b[1;3m60.0\u001b[0m\n",
      "\u001b[1m> Finished chain.\u001b[0m\n",
      "\n",
      "Observation: \u001b[36;1m\u001b[1;3mAnswer: 60.0\u001b[0m\n",
      "Thought:\u001b[32;1m\u001b[1;3mI now know the final answer.\n",
      "\n",
      "Final Answer: 60 km/h\u001b[0m\n",
      "\n",
      "\u001b[1m> Finished chain.\u001b[0m\n",
      "60 km/h\n",
      "\n",
      "\n",
      "\u001b[1m> Entering new AgentExecutor chain...\u001b[0m\n",
      "\u001b[32;1m\u001b[1;3mTo find the probability of rolling a sum of 7 with two dice, I need to determine the number of favorable outcomes (combinations that sum to 7) and divide it by the total number of possible outcomes.\n",
      "\n",
      "The possible outcomes when rolling two dice are 6 * 6 = 36.\n",
      "\n",
      "The combinations that sum to 7 are:\n",
      "(1, 6)\n",
      "(2, 5)\n",
      "(3, 4)\n",
      "(4, 3)\n",
      "(5, 2)\n",
      "(6, 1)\n",
      "\n",
      "There are 6 favorable outcomes.\n",
      "\n",
      "So, the probability is 6/36, which simplifies to 1/6.\n",
      "Action: MathSolver\n",
      "Action Input: \"What is the probability of rolling a sum of 7 with two dice?\"\u001b[0m\n",
      "\n",
      "\u001b[1m> Entering new LLMMathChain chain...\u001b[0m\n",
      "What is the probability of rolling a sum of 7 with two dice?\u001b[32;1m\u001b[1;3m```text\n",
      "1/6\n",
      "```\n",
      "...numexpr.evaluate(\"1/6\")...\u001b[0m\n",
      "Answer: \u001b[33;1m\u001b[1;3m0.16666666666666666\u001b[0m\n",
      "\u001b[1m> Finished chain.\u001b[0m\n",
      "\n",
      "Observation: \u001b[36;1m\u001b[1;3mAnswer: 0.16666666666666666\u001b[0m\n",
      "Thought:\u001b[32;1m\u001b[1;3mThe probability of rolling a sum of 7 with two dice is 6/36, which simplifies to 1/6 or approximately 0.1667.\n",
      "Final Answer: 0.16666666666666666\u001b[0m\n",
      "\n",
      "\u001b[1m> Finished chain.\u001b[0m\n",
      "0.16666666666666666\n",
      "Goodbye!\n"
     ]
    }
   ],
   "source": [
    "main()"
   ]
  },
  {
   "cell_type": "code",
   "execution_count": null,
   "metadata": {},
   "outputs": [],
   "source": []
  }
 ],
 "metadata": {
  "kernelspec": {
   "display_name": "Python 3",
   "language": "python",
   "name": "python3"
  },
  "language_info": {
   "codemirror_mode": {
    "name": "ipython",
    "version": 3
   },
   "file_extension": ".py",
   "mimetype": "text/x-python",
   "name": "python",
   "nbconvert_exporter": "python",
   "pygments_lexer": "ipython3",
   "version": "3.12.6"
  }
 },
 "nbformat": 4,
 "nbformat_minor": 2
}
