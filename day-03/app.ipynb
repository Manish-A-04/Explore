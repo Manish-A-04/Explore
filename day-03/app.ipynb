{
 "cells": [
  {
   "cell_type": "code",
   "execution_count": 1,
   "metadata": {},
   "outputs": [],
   "source": [
    "from langchain.document_loaders import PyPDFLoader , Docx2txtLoader , CSVLoader\n",
    "from langchain.vectorstores import LanceDB\n",
    "from langchain.retrievers import BM25Retriever , EnsembleRetriever\n",
    "from langchain.embeddings import OllamaEmbeddings\n",
    "import os\n"
   ]
  },
  {
   "cell_type": "code",
   "execution_count": 15,
   "metadata": {},
   "outputs": [
    {
     "name": "stdout",
     "output_type": "stream",
     "text": [
      "Unsupported Format : .ipynb\n"
     ]
    }
   ],
   "source": [
    "curr_dir = os.getcwd()\n",
    "combined_docs = []\n",
    "for path in os.listdir(curr_dir):\n",
    "    file_fmt = os.path.splitext(path)[1]\n",
    "    if file_fmt==\".pdf\":\n",
    "        loader = PyPDFLoader(path)\n",
    "        combined_docs.extend(loader.load())\n",
    "    elif file_fmt==\".docx\":\n",
    "        loader = Docx2txtLoader(path)\n",
    "        combined_docs.extend(loader.load())\n",
    "    elif file_fmt==\".csv\":\n",
    "        loader = CSVLoader(path)\n",
    "        combined_docs.extend(loader.load())\n",
    "    else:\n",
    "        print(f\"Unsupported Format : {file_fmt}\")\n"
   ]
  },
  {
   "cell_type": "markdown",
   "metadata": {},
   "source": [
    "IM USING ONLY TOP 100 DOCUMENTS FOR CONVENIENCE"
   ]
  },
  {
   "cell_type": "code",
   "execution_count": 22,
   "metadata": {},
   "outputs": [],
   "source": [
    "combined_docs = combined_docs[:100]"
   ]
  },
  {
   "cell_type": "code",
   "execution_count": 23,
   "metadata": {},
   "outputs": [],
   "source": [
    "from langchain.text_splitter import RecursiveCharacterTextSplitter\n",
    "\n",
    "text_splitter = RecursiveCharacterTextSplitter(chunk_size=1000 , chunk_overlap = 200)\n",
    "splitted_docs = text_splitter.split_documents(combined_docs)"
   ]
  },
  {
   "cell_type": "code",
   "execution_count": 24,
   "metadata": {},
   "outputs": [],
   "source": [
    "embedding_model = OllamaEmbeddings(model=\"nomic-embed-text:latest\")\n",
    "vectordb = LanceDB.from_documents(splitted_docs , embedding_model)"
   ]
  },
  {
   "cell_type": "code",
   "execution_count": 25,
   "metadata": {},
   "outputs": [],
   "source": [
    "vector_retriever = vectordb.as_retriever()\n",
    "\n",
    "lexicaldb = BM25Retriever.from_documents(splitted_docs)\n",
    "lexicaldb.k = 4"
   ]
  },
  {
   "cell_type": "code",
   "execution_count": 26,
   "metadata": {},
   "outputs": [],
   "source": [
    "hybrid_search = EnsembleRetriever(retrievers=[vector_retriever , lexicaldb], weights=[.60,.40])"
   ]
  },
  {
   "cell_type": "code",
   "execution_count": 40,
   "metadata": {},
   "outputs": [],
   "source": [
    "from langchain_core.prompts import ChatPromptTemplate\n",
    "\n",
    "prompt=ChatPromptTemplate.from_template(\n",
    "    \"\\\n",
    "Your are a personal assistant based on the user questions , \\\n",
    "Answer in a clear and concise manner and also make sure to use the terminologies  associated with it . \\\n",
    "Use the give context to enhance your understanding on specific topics. \\\n",
    "<context> {context} </context> \\\n",
    "<question> {input} </question> \\\n",
    "\"\n",
    ")"
   ]
  },
  {
   "cell_type": "code",
   "execution_count": 41,
   "metadata": {},
   "outputs": [],
   "source": [
    "from langchain_community.llms import ollama\n",
    "\n",
    "llm = ollama.Ollama(model=\"llama3.2:1b-instruct-q2_K\")\n"
   ]
  },
  {
   "cell_type": "code",
   "execution_count": 42,
   "metadata": {},
   "outputs": [],
   "source": [
    "from langchain.chains.combine_documents import create_stuff_documents_chain\n",
    "from langchain.chains.retrieval import create_retrieval_chain\n",
    "\n",
    "combining_chain = create_stuff_documents_chain(llm=llm, prompt=prompt)\n",
    "retrieval_chain = create_retrieval_chain(hybrid_search , combining_chain)\n"
   ]
  },
  {
   "cell_type": "code",
   "execution_count": 47,
   "metadata": {},
   "outputs": [],
   "source": [
    "answer = retrieval_chain.invoke({\"input\":\"What is the top llm in 2024\"})"
   ]
  },
  {
   "cell_type": "code",
   "execution_count": null,
   "metadata": {},
   "outputs": [],
   "source": [
    "answer[\"answer\"]"
   ]
  },
  {
   "cell_type": "code",
   "execution_count": null,
   "metadata": {},
   "outputs": [],
   "source": []
  }
 ],
 "metadata": {
  "kernelspec": {
   "display_name": "Python 3",
   "language": "python",
   "name": "python3"
  },
  "language_info": {
   "codemirror_mode": {
    "name": "ipython",
    "version": 3
   },
   "file_extension": ".py",
   "mimetype": "text/x-python",
   "name": "python",
   "nbconvert_exporter": "python",
   "pygments_lexer": "ipython3",
   "version": "3.12.6"
  }
 },
 "nbformat": 4,
 "nbformat_minor": 2
}
