{
 "cells": [
  {
   "cell_type": "code",
   "execution_count": 1,
   "metadata": {},
   "outputs": [],
   "source": [
    "from langchain.tools import tool\n",
    "import requests\n",
    "from langchain.tools.tavily_search import TavilySearchResults\n",
    "from dotenv import load_dotenv\n",
    "import os"
   ]
  },
  {
   "cell_type": "code",
   "execution_count": 2,
   "metadata": {},
   "outputs": [],
   "source": [
    "load_dotenv()\n",
    "WEATHER_API_KEY = os.getenv(\"WEATHER_API_KEY\")"
   ]
  },
  {
   "cell_type": "code",
   "execution_count": 3,
   "metadata": {},
   "outputs": [],
   "source": [
    "@tool\n",
    "def get_weather( query : str ) -> list :\n",
    "    \"\"\"This tool interacts with weatherapi to get current weather\"\"\"\n",
    "    api_endpoint = f\"http://api.weatherapi.com/v1/current.json?key={WEATHER_API_KEY}&q={query}\"\n",
    "    response = requests.get( api_endpoint )\n",
    "    data = response.json()\n",
    "    if data.get(\"location\"):\n",
    "        return data\n",
    "    else:\n",
    "        return \"Location not found\"\n",
    "    \n",
    "@tool\n",
    "def web_search(query : str) -> list :\n",
    "    \"\"\"This tool allows to search queries on web\"\"\"\n",
    "    search = TavilySearchResults(max_results=2 , search_depth=\"advanced\" )\n",
    "    results = search.invoke(query)\n",
    "    return results\n",
    "\n",
    "tools = [ get_weather , web_search ]\n"
   ]
  },
  {
   "cell_type": "code",
   "execution_count": null,
   "metadata": {},
   "outputs": [],
   "source": [
    "from langchain_google_genai.chat_models import ChatGoogleGenerativeAI\n",
    "\n",
    "llm = ChatGoogleGenerativeAI( model = \"gemini-2.0-flash\" ,)\n",
    "bind_llm = llm.bind_tools(tools=tools )"
   ]
  },
  {
   "cell_type": "code",
   "execution_count": 13,
   "metadata": {},
   "outputs": [],
   "source": [
    "from langgraph.prebuilt import ToolNode\n",
    "from langgraph.graph import START , END , StateGraph , MessagesState"
   ]
  },
  {
   "cell_type": "code",
   "execution_count": 14,
   "metadata": {},
   "outputs": [],
   "source": [
    "tool_node = ToolNode( tools = tools )\n",
    "\n",
    "def invoke_model( state : MessagesState ):\n",
    "    print(\"\\nInvoking model....................\")\n",
    "    messages = state[\"messages\"]\n",
    "    print(f\"Messages : \\n{messages}\")\n",
    "    response = bind_llm.invoke( messages )\n",
    "    print(f\"Response : \\n{response}\")\n",
    "    return { \"messages\" : [response] }\n",
    "\n",
    "def invoke_tools( state : MessagesState ):\n",
    "    print(\"\\nInvoking Tools.....................\")\n",
    "    messages = state[\"messages\"]\n",
    "    print(f\"Messages : \\n{messages}\")\n",
    "    last_message = messages[-1]\n",
    "    print(f\"Last Message : \\n{last_message}\")\n",
    "    if last_message.tool_calls:\n",
    "        print(f\"\\ntools : \\n{last_message.tool_calls}\")\n",
    "        return \"tools\"\n",
    "    return END\n"
   ]
  },
  {
   "cell_type": "code",
   "execution_count": 15,
   "metadata": {},
   "outputs": [],
   "source": [
    "workflow = StateGraph( MessagesState )\n",
    "workflow.add_node( \"LLM\" , invoke_model )\n",
    "workflow.add_edge( START , \"LLM\" )\n",
    "workflow.add_node( \"tools\" , tool_node )\n",
    "workflow.add_conditional_edges( \"LLM\" , invoke_tools )\n",
    "workflow.add_edge( \"tools\" , \"LLM\" )\n",
    "\n",
    "agent = workflow.compile()\n"
   ]
  },
  {
   "cell_type": "code",
   "execution_count": 16,
   "metadata": {},
   "outputs": [
    {
     "name": "stdout",
     "output_type": "stream",
     "text": [
      "================================\u001b[1m Human Message \u001b[0m=================================\n",
      "\n",
      "What is the current weather in chennai?\n",
      "\n",
      "Invoking model....................\n",
      "Messages : \n",
      "[HumanMessage(content='What is the current weather in chennai?', additional_kwargs={}, response_metadata={}, id='b6b64521-7ea7-4644-ba7c-9e0f5f2410f0')]\n",
      "Response : \n",
      "content='' additional_kwargs={'function_call': {'name': 'get_weather', 'arguments': '{\"query\": \"chennai\"}'}} response_metadata={'prompt_feedback': {'block_reason': 0, 'safety_ratings': []}, 'finish_reason': 'STOP', 'safety_ratings': []} id='run-d6976fc5-0e82-4c31-9e3c-acb8d25d2fbb-0' tool_calls=[{'name': 'get_weather', 'args': {'query': 'chennai'}, 'id': 'f6d3c798-8b1d-4cc0-a65c-4435f6bd2230', 'type': 'tool_call'}] usage_metadata={'input_tokens': 37, 'output_tokens': 6, 'total_tokens': 43, 'input_token_details': {'cache_read': 0}}\n",
      "\n",
      "Invoking Tools.....................\n",
      "Messages : \n",
      "[HumanMessage(content='What is the current weather in chennai?', additional_kwargs={}, response_metadata={}, id='b6b64521-7ea7-4644-ba7c-9e0f5f2410f0'), AIMessage(content='', additional_kwargs={'function_call': {'name': 'get_weather', 'arguments': '{\"query\": \"chennai\"}'}}, response_metadata={'prompt_feedback': {'block_reason': 0, 'safety_ratings': []}, 'finish_reason': 'STOP', 'safety_ratings': []}, id='run-d6976fc5-0e82-4c31-9e3c-acb8d25d2fbb-0', tool_calls=[{'name': 'get_weather', 'args': {'query': 'chennai'}, 'id': 'f6d3c798-8b1d-4cc0-a65c-4435f6bd2230', 'type': 'tool_call'}], usage_metadata={'input_tokens': 37, 'output_tokens': 6, 'total_tokens': 43, 'input_token_details': {'cache_read': 0}})]\n",
      "Last Message : \n",
      "content='' additional_kwargs={'function_call': {'name': 'get_weather', 'arguments': '{\"query\": \"chennai\"}'}} response_metadata={'prompt_feedback': {'block_reason': 0, 'safety_ratings': []}, 'finish_reason': 'STOP', 'safety_ratings': []} id='run-d6976fc5-0e82-4c31-9e3c-acb8d25d2fbb-0' tool_calls=[{'name': 'get_weather', 'args': {'query': 'chennai'}, 'id': 'f6d3c798-8b1d-4cc0-a65c-4435f6bd2230', 'type': 'tool_call'}] usage_metadata={'input_tokens': 37, 'output_tokens': 6, 'total_tokens': 43, 'input_token_details': {'cache_read': 0}}\n",
      "\n",
      "tools : \n",
      "[{'name': 'get_weather', 'args': {'query': 'chennai'}, 'id': 'f6d3c798-8b1d-4cc0-a65c-4435f6bd2230', 'type': 'tool_call'}]\n",
      "==================================\u001b[1m Ai Message \u001b[0m==================================\n",
      "Tool Calls:\n",
      "  get_weather (f6d3c798-8b1d-4cc0-a65c-4435f6bd2230)\n",
      " Call ID: f6d3c798-8b1d-4cc0-a65c-4435f6bd2230\n",
      "  Args:\n",
      "    query: chennai\n",
      "=================================\u001b[1m Tool Message \u001b[0m=================================\n",
      "Name: get_weather\n",
      "\n",
      "{\"location\": {\"name\": \"Chennai\", \"region\": \"Tamil Nadu\", \"country\": \"India\", \"lat\": 13.0833, \"lon\": 80.2833, \"tz_id\": \"Asia/Kolkata\", \"localtime_epoch\": 1740494748, \"localtime\": \"2025-02-25 20:15\"}, \"current\": {\"last_updated_epoch\": 1740494700, \"last_updated\": \"2025-02-25 20:15\", \"temp_c\": 28.2, \"temp_f\": 82.8, \"is_day\": 0, \"condition\": {\"text\": \"Mist\", \"icon\": \"//cdn.weatherapi.com/weather/64x64/night/143.png\", \"code\": 1030}, \"wind_mph\": 11.6, \"wind_kph\": 18.7, \"wind_degree\": 49, \"wind_dir\": \"NE\", \"pressure_mb\": 1015.0, \"pressure_in\": 29.97, \"precip_mm\": 0.0, \"precip_in\": 0.0, \"humidity\": 74, \"cloud\": 25, \"feelslike_c\": 31.5, \"feelslike_f\": 88.8, \"windchill_c\": 26.5, \"windchill_f\": 79.6, \"heatindex_c\": 28.6, \"heatindex_f\": 83.5, \"dewpoint_c\": 21.0, \"dewpoint_f\": 69.8, \"vis_km\": 5.0, \"vis_miles\": 3.0, \"uv\": 0.0, \"gust_mph\": 17.5, \"gust_kph\": 28.2}}\n",
      "\n",
      "Invoking model....................\n",
      "Messages : \n",
      "[HumanMessage(content='What is the current weather in chennai?', additional_kwargs={}, response_metadata={}, id='b6b64521-7ea7-4644-ba7c-9e0f5f2410f0'), AIMessage(content='', additional_kwargs={'function_call': {'name': 'get_weather', 'arguments': '{\"query\": \"chennai\"}'}}, response_metadata={'prompt_feedback': {'block_reason': 0, 'safety_ratings': []}, 'finish_reason': 'STOP', 'safety_ratings': []}, id='run-d6976fc5-0e82-4c31-9e3c-acb8d25d2fbb-0', tool_calls=[{'name': 'get_weather', 'args': {'query': 'chennai'}, 'id': 'f6d3c798-8b1d-4cc0-a65c-4435f6bd2230', 'type': 'tool_call'}], usage_metadata={'input_tokens': 37, 'output_tokens': 6, 'total_tokens': 43, 'input_token_details': {'cache_read': 0}}), ToolMessage(content='{\"location\": {\"name\": \"Chennai\", \"region\": \"Tamil Nadu\", \"country\": \"India\", \"lat\": 13.0833, \"lon\": 80.2833, \"tz_id\": \"Asia/Kolkata\", \"localtime_epoch\": 1740494748, \"localtime\": \"2025-02-25 20:15\"}, \"current\": {\"last_updated_epoch\": 1740494700, \"last_updated\": \"2025-02-25 20:15\", \"temp_c\": 28.2, \"temp_f\": 82.8, \"is_day\": 0, \"condition\": {\"text\": \"Mist\", \"icon\": \"//cdn.weatherapi.com/weather/64x64/night/143.png\", \"code\": 1030}, \"wind_mph\": 11.6, \"wind_kph\": 18.7, \"wind_degree\": 49, \"wind_dir\": \"NE\", \"pressure_mb\": 1015.0, \"pressure_in\": 29.97, \"precip_mm\": 0.0, \"precip_in\": 0.0, \"humidity\": 74, \"cloud\": 25, \"feelslike_c\": 31.5, \"feelslike_f\": 88.8, \"windchill_c\": 26.5, \"windchill_f\": 79.6, \"heatindex_c\": 28.6, \"heatindex_f\": 83.5, \"dewpoint_c\": 21.0, \"dewpoint_f\": 69.8, \"vis_km\": 5.0, \"vis_miles\": 3.0, \"uv\": 0.0, \"gust_mph\": 17.5, \"gust_kph\": 28.2}}', name='get_weather', id='4218e69f-53ce-48d7-b122-350b536cb0d6', tool_call_id='f6d3c798-8b1d-4cc0-a65c-4435f6bd2230')]\n",
      "Response : \n",
      "content='The current weather in Chennai, India is Mist with a temperature of 28.2 degrees Celsius, feels like 31.5 degrees Celsius. The humidity is 74% and the wind is blowing from the NE at 18.7 kph.' additional_kwargs={} response_metadata={'prompt_feedback': {'block_reason': 0, 'safety_ratings': []}, 'finish_reason': 'STOP', 'safety_ratings': []} id='run-db3dfa5e-c7b5-42ae-9ed3-167c76f112fa-0' usage_metadata={'input_tokens': 218, 'output_tokens': 56, 'total_tokens': 274, 'input_token_details': {'cache_read': 0}}\n",
      "\n",
      "Invoking Tools.....................\n",
      "Messages : \n",
      "[HumanMessage(content='What is the current weather in chennai?', additional_kwargs={}, response_metadata={}, id='b6b64521-7ea7-4644-ba7c-9e0f5f2410f0'), AIMessage(content='', additional_kwargs={'function_call': {'name': 'get_weather', 'arguments': '{\"query\": \"chennai\"}'}}, response_metadata={'prompt_feedback': {'block_reason': 0, 'safety_ratings': []}, 'finish_reason': 'STOP', 'safety_ratings': []}, id='run-d6976fc5-0e82-4c31-9e3c-acb8d25d2fbb-0', tool_calls=[{'name': 'get_weather', 'args': {'query': 'chennai'}, 'id': 'f6d3c798-8b1d-4cc0-a65c-4435f6bd2230', 'type': 'tool_call'}], usage_metadata={'input_tokens': 37, 'output_tokens': 6, 'total_tokens': 43, 'input_token_details': {'cache_read': 0}}), ToolMessage(content='{\"location\": {\"name\": \"Chennai\", \"region\": \"Tamil Nadu\", \"country\": \"India\", \"lat\": 13.0833, \"lon\": 80.2833, \"tz_id\": \"Asia/Kolkata\", \"localtime_epoch\": 1740494748, \"localtime\": \"2025-02-25 20:15\"}, \"current\": {\"last_updated_epoch\": 1740494700, \"last_updated\": \"2025-02-25 20:15\", \"temp_c\": 28.2, \"temp_f\": 82.8, \"is_day\": 0, \"condition\": {\"text\": \"Mist\", \"icon\": \"//cdn.weatherapi.com/weather/64x64/night/143.png\", \"code\": 1030}, \"wind_mph\": 11.6, \"wind_kph\": 18.7, \"wind_degree\": 49, \"wind_dir\": \"NE\", \"pressure_mb\": 1015.0, \"pressure_in\": 29.97, \"precip_mm\": 0.0, \"precip_in\": 0.0, \"humidity\": 74, \"cloud\": 25, \"feelslike_c\": 31.5, \"feelslike_f\": 88.8, \"windchill_c\": 26.5, \"windchill_f\": 79.6, \"heatindex_c\": 28.6, \"heatindex_f\": 83.5, \"dewpoint_c\": 21.0, \"dewpoint_f\": 69.8, \"vis_km\": 5.0, \"vis_miles\": 3.0, \"uv\": 0.0, \"gust_mph\": 17.5, \"gust_kph\": 28.2}}', name='get_weather', id='4218e69f-53ce-48d7-b122-350b536cb0d6', tool_call_id='f6d3c798-8b1d-4cc0-a65c-4435f6bd2230'), AIMessage(content='The current weather in Chennai, India is Mist with a temperature of 28.2 degrees Celsius, feels like 31.5 degrees Celsius. The humidity is 74% and the wind is blowing from the NE at 18.7 kph.', additional_kwargs={}, response_metadata={'prompt_feedback': {'block_reason': 0, 'safety_ratings': []}, 'finish_reason': 'STOP', 'safety_ratings': []}, id='run-db3dfa5e-c7b5-42ae-9ed3-167c76f112fa-0', usage_metadata={'input_tokens': 218, 'output_tokens': 56, 'total_tokens': 274, 'input_token_details': {'cache_read': 0}})]\n",
      "Last Message : \n",
      "content='The current weather in Chennai, India is Mist with a temperature of 28.2 degrees Celsius, feels like 31.5 degrees Celsius. The humidity is 74% and the wind is blowing from the NE at 18.7 kph.' additional_kwargs={} response_metadata={'prompt_feedback': {'block_reason': 0, 'safety_ratings': []}, 'finish_reason': 'STOP', 'safety_ratings': []} id='run-db3dfa5e-c7b5-42ae-9ed3-167c76f112fa-0' usage_metadata={'input_tokens': 218, 'output_tokens': 56, 'total_tokens': 274, 'input_token_details': {'cache_read': 0}}\n",
      "==================================\u001b[1m Ai Message \u001b[0m==================================\n",
      "\n",
      "The current weather in Chennai, India is Mist with a temperature of 28.2 degrees Celsius, feels like 31.5 degrees Celsius. The humidity is 74% and the wind is blowing from the NE at 18.7 kph.\n"
     ]
    }
   ],
   "source": [
    "for chunk in agent.stream({\"messages\":[(\"user\",\"What is the current weather in chennai?\")]} , stream_mode=\"values\"):\n",
    "    chunk[\"messages\"][-1].pretty_print()"
   ]
  },
  {
   "cell_type": "code",
   "execution_count": 18,
   "metadata": {},
   "outputs": [
    {
     "data": {
      "image/png": "[encoded data removed]",
      "text/plain": [
       "<IPython.core.display.Image object>"
      ]
     },
     "execution_count": 18,
     "metadata": {},
     "output_type": "execute_result"
    }
   ],
   "source": [
    "from IPython.display import Image\n",
    "\n",
    "Image(agent.get_graph().draw_mermaid_png())\n"
   ]
  },
  {
   "cell_type": "code",
   "execution_count": null,
   "metadata": {},
   "outputs": [],
   "source": []
  }
 ],
 "metadata": {
  "kernelspec": {
   "display_name": "Python 3",
   "language": "python",
   "name": "python3"
  },
  "language_info": {
   "codemirror_mode": {
    "name": "ipython",
    "version": 3
   },
   "file_extension": ".py",
   "mimetype": "text/x-python",
   "name": "python",
   "nbconvert_exporter": "python",
   "pygments_lexer": "ipython3",
   "version": "3.12.6"
  }
 },
 "nbformat": 4,
 "nbformat_minor": 2
}
