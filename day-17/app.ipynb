{
 "cells": [
  {
   "cell_type": "code",
   "execution_count": 3,
   "metadata": {},
   "outputs": [],
   "source": [
    "import pandas as pd\n",
    "from langchain_core.tools import tool\n",
    "import yfinance as yf\n",
    "from ta.momentum import RSIIndicator , StochasticOscillator\n",
    "from ta.trend import SMAIndicator , EMAIndicator , MACD\n",
    "from ta.volume import volume_weighted_average_price\n",
    "import datetime as dt"
   ]
  },
  {
   "cell_type": "code",
   "execution_count": 4,
   "metadata": {},
   "outputs": [],
   "source": [
    "#Creating a tool\n",
    "\n",
    "@tool\n",
    "def get_stock_prices( ticker : str ) :\n",
    "    \"\"\"This tool fetches historical stock prices data and technical indicator for a given stock\"\"\"\n",
    "\n",
    "    try:\n",
    "        data = yf.download( ticker , start = dt.datetime.now() - dt.timedelta( weeks = 24*3 ) , end = dt.datetime.now() , interval = \"1wk\")\n",
    "        df = data.copy()\n",
    "        data.reset_index( inplace = True )\n",
    "        data.Date = data.Date.astype(str)\n",
    "        indicators = {}\n",
    "\n",
    "        rsi_series = RSIIndicator(df[\"Close\"], window=14).rsi().iloc[-12:]\n",
    "        indicators[\"RSI\"] = {date.strftime(\"%Y-%m-%d\"): int(value) for date , value in rsi_series.dropna().to_dict().items()}\n",
    "\n",
    "        sto_series = StochasticOscillator(df['High'], df['Low'], df['Close'], window=14).stoch().iloc[-12:]\n",
    "        indicators[\"Stochastic_Oscillator\"] = {\n",
    "                    date.strftime('%Y-%m-%d'): int(value) \n",
    "                    for date, value in sto_series.dropna().to_dict().items()}\n",
    "\n",
    "        macd = MACD(df['Close'])\n",
    "        macd_series = macd.macd().iloc[-12:]\n",
    "        indicators[\"MACD\"] = {date.strftime('%Y-%m-%d'): int(value) \n",
    "                    for date, value in macd_series.to_dict().items()}\n",
    "        \n",
    "        macd_signal_series = macd.macd_signal().iloc[-12:]\n",
    "        indicators[\"MACD_Signal\"] = {date.strftime('%Y-%m-%d'): int(value) \n",
    "                    for date, value in macd_signal_series.to_dict().items()}\n",
    "        \n",
    "        vwap_series = volume_weighted_average_price(\n",
    "            high=df['High'], low=df['Low'], close=df['Close'], \n",
    "            volume=df['Volume'],\n",
    "        ).iloc[-12:]\n",
    "        indicators[\"vwap\"] = {date.strftime('%Y-%m-%d'): int(value) \n",
    "                    for date, value in vwap_series.to_dict().items()}\n",
    "        \n",
    "        return {'stock_price': data.to_dict(orient='records'),\n",
    "                'indicators': indicators}\n",
    "\n",
    "    except Exception as e:\n",
    "        return f\"Error fetching price data: {str(e)}\"\n",
    "\n",
    "\n",
    "\n"
   ]
  },
  {
   "cell_type": "code",
   "execution_count": 5,
   "metadata": {},
   "outputs": [],
   "source": [
    "\n",
    "@tool\n",
    "def get_financial_metrics(ticker: str) :\n",
    "    \"\"\"This tool Fetches key financial ratios for a given ticker.\"\"\"\n",
    "    try:\n",
    "        stock = yf.Ticker(ticker)\n",
    "        info = stock.info\n",
    "        return {\n",
    "            'pe_ratio': info.get('forwardPE'),\n",
    "            'price_to_book': info.get('priceToBook'),\n",
    "            'debt_to_equity': info.get('debtToEquity'),\n",
    "            'profit_margins': info.get('profitMargins')\n",
    "        }\n",
    "    except Exception as e:\n",
    "        return f\"Error fetching ratios: {str(e)}\""
   ]
  },
  {
   "cell_type": "code",
   "execution_count": 6,
   "metadata": {},
   "outputs": [],
   "source": [
    "from langgraph.graph import StateGraph , START , END , add_messages\n",
    "from typing import TypedDict , Annotated\n",
    "\n",
    "class State( TypedDict ):\n",
    "\n",
    "    messages:Annotated[list , add_messages]\n",
    "    stock:str\n",
    "\n",
    "\n",
    "graph_builder = StateGraph(State)"
   ]
  },
  {
   "cell_type": "code",
   "execution_count": 7,
   "metadata": {},
   "outputs": [],
   "source": [
    "from dotenv import load_dotenv\n",
    "from langchain_google_genai.chat_models import ChatGoogleGenerativeAI\n",
    "\n",
    "load_dotenv()\n",
    "\n",
    "llm = ChatGoogleGenerativeAI( model = \"gemini-2.0-flash\" )\n",
    "\n",
    "tools = [ get_stock_prices , get_financial_metrics ]\n",
    "binded_llm = llm.bind_tools( tools )\n",
    "\n"
   ]
  },
  {
   "cell_type": "code",
   "execution_count": 25,
   "metadata": {},
   "outputs": [],
   "source": [
    "FUNDAMENTAL_ANALYST_PROMPT = \"\"\"\n",
    "You are a fundamental analyst specializing in evaluating company (whose symbol is {company}) performance based on stock prices, technical indicators, and financial metrics. Your task is to provide a comprehensive summary of the fundamental analysis for a given stock.\n",
    "\n",
    "You have access to the following tools:\n",
    "1. **get_stock_prices**: Retrieves the latest stock price, historical price data and technical Indicators like RSI, MACD, Drawdown and VWAP.\n",
    "2. **get_financial_metrics**: Retrieves key financial metrics, such as revenue, earnings per share (EPS), price-to-earnings ratio (P/E), and debt-to-equity ratio.\n",
    "\n",
    "### Your Task:\n",
    "1. **Input Stock Symbol**: Use the provided stock symbol to query the tools and gather the relevant information.\n",
    "2. **Analyze Data**: Evaluate the results from the tools and identify potential resistance, key trends, strengths, or concerns.\n",
    "3. **Provide Summary**: Write a concise, well-structured summary that highlights:\n",
    "    - Recent stock price movements, trends and potential resistance.\n",
    "    - Key insights from technical indicators (e.g., whether the stock is overbought or oversold).\n",
    "    - Financial health and performance based on financial metrics.\n",
    "\n",
    "### Constraints:\n",
    "- Use only the data provided by the tools.\n",
    "- Avoid speculative language; focus on observable data and trends.\n",
    "- If any tool fails to provide data, clearly state that in your summary.\n",
    "\n",
    "### Output Format:\n",
    "Respond in the following format:\n",
    "\"stock\": \"<Stock Symbol>\",\n",
    "\"price_analysis\": \"<Detailed analysis of stock price trends>\",\n",
    "\"technical_analysis\": \"<Detailed time series Analysis from ALL technical indicators>\",\n",
    "\"financial_analysis\": \"<Detailed analysis from financial metrics>\",\n",
    "\"final Summary\": \"<Full Conclusion based on the above analyses>\"\n",
    "\"Asked Question Answer\": \"<Answer based on the details and analysis above>\"\n",
    "\n",
    "Ensure that your response is objective, concise, and actionable.\"\"\""
   ]
  },
  {
   "cell_type": "code",
   "execution_count": 26,
   "metadata": {},
   "outputs": [],
   "source": [
    "from langchain_core.messages import SystemMessage\n",
    "\n",
    "def fundamental_analyst( state : State ):\n",
    "\n",
    "    messages = [\n",
    "        SystemMessage(content = FUNDAMENTAL_ANALYST_PROMPT.format(company=state[\"stock\"])),\n",
    "    ] + state[\"messages\"]\n",
    "    return {\n",
    "        \"messages\":binded_llm.invoke(messages)\n",
    "    }\n"
   ]
  },
  {
   "cell_type": "code",
   "execution_count": 27,
   "metadata": {},
   "outputs": [],
   "source": [
    "def tools_condition( state ):\n",
    "    messages = state[\"messages\"]\n",
    "    last_message = messages[-1]\n",
    "    if last_message.tool_calls:\n",
    "        return \"tools\"\n",
    "    return END"
   ]
  },
  {
   "cell_type": "code",
   "execution_count": 28,
   "metadata": {},
   "outputs": [
    {
     "name": "stdout",
     "output_type": "stream",
     "text": [
      "Graph compiled successfully ✅\n"
     ]
    }
   ],
   "source": [
    "from langgraph.prebuilt import ToolNode\n",
    "\n",
    "\n",
    "# Reset the Graph to avoid duplicate nodes\n",
    "graph_builder = StateGraph(State)\n",
    "\n",
    "# Add Nodes\n",
    "if \"fundamental_analyst\" not in graph_builder.nodes:\n",
    "    graph_builder.add_node(\"fundamental_analyst\", fundamental_analyst)\n",
    "\n",
    "graph_builder.add_edge(START, \"fundamental_analyst\")\n",
    "\n",
    "if \"tools\" not in graph_builder.nodes:\n",
    "    graph_builder.add_node(\"tools\", ToolNode(tools=tools))\n",
    "\n",
    "if \"fundamental_analyst\" in graph_builder.branches:\n",
    "    if \"tools_condition\" not in graph_builder.branches[\"fundamental_analyst\"]:\n",
    "        graph_builder.add_conditional_edges(\"fundamental_analyst\", tools_condition)\n",
    "else:\n",
    "    graph_builder.add_conditional_edges(\"fundamental_analyst\", tools_condition)\n",
    "\n",
    "if \"tools\" in graph_builder.nodes and (\"tools\", \"fundamental_analyst\") not in graph_builder.edges:\n",
    "    graph_builder.add_edge(\"tools\", \"fundamental_analyst\")\n",
    "\n",
    "# Compile the Graph\n",
    "graph = graph_builder.compile()\n",
    "print(\"Graph compiled successfully ✅\")\n"
   ]
  },
  {
   "cell_type": "code",
   "execution_count": 29,
   "metadata": {},
   "outputs": [
    {
     "name": "stdout",
     "output_type": "stream",
     "text": [
      "================================\u001b[1m Human Message \u001b[0m=================================\n",
      "\n",
      "Is it ok to purchase google stocks\n",
      "==================================\u001b[1m Ai Message \u001b[0m==================================\n",
      "Tool Calls:\n",
      "  get_stock_prices (7284962e-cdea-4245-8e95-950bb7307491)\n",
      " Call ID: 7284962e-cdea-4245-8e95-950bb7307491\n",
      "  Args:\n",
      "    ticker: GOOGL\n",
      "  get_financial_metrics (a398109a-1340-4eef-ab9f-b9e66cc8fc77)\n",
      " Call ID: a398109a-1340-4eef-ab9f-b9e66cc8fc77\n",
      "  Args:\n",
      "    ticker: GOOGL\n",
      "YF.download() has changed argument auto_adjust default to True\n"
     ]
    },
    {
     "name": "stderr",
     "output_type": "stream",
     "text": [
      "[*********************100%***********************]  1 of 1 completed\n"
     ]
    },
    {
     "name": "stdout",
     "output_type": "stream",
     "text": [
      "=================================\u001b[1m Tool Message \u001b[0m=================================\n",
      "Name: get_financial_metrics\n",
      "\n",
      "{\"pe_ratio\": 19.421875, \"price_to_book\": 6.5366993, \"debt_to_equity\": 8.655, \"profit_margins\": 0.28604}\n",
      "==================================\u001b[1m Ai Message \u001b[0m==================================\n",
      "\n",
      "\"stock\": \"GOOGL\",\n",
      "\"price_analysis\": \"Price data could not be retrieved due to an error.\",\n",
      "\"technical_analysis\": \"Technical indicator data could not be retrieved due to an error.\",\n",
      "\"financial_analysis\": \"The debt-to-equity ratio is 8.655, the P/E ratio is 19.42, the price-to-book ratio is 6.54, and the profit margin is 0.29.\",\n",
      "\"final Summary\": \"I was unable to retrieve stock price and technical indicator data. Based on available financial metrics, Google has a debt-to-equity ratio of 8.655, a P/E ratio of 19.42, a price-to-book ratio of 6.54 and a profit margin of 29%.\",\n",
      "\"Asked Question Answer\": \"I am unable to provide a purchase recommendation without stock price data and technical indicator analysis. However, the company has a good profit margin.\"\n"
     ]
    }
   ],
   "source": [
    "for event in graph.stream( { \"messages\" : [ (\"user\",\"Is it ok to purchase google stocks\" ) ] , \"stock\":\"google\" } , stream_mode=\"values\" ):\n",
    "    if \"messages\" in event:\n",
    "        event[\"messages\"][-1].pretty_print()"
   ]
  },
  {
   "cell_type": "code",
   "execution_count": null,
   "metadata": {},
   "outputs": [],
   "source": []
  }
 ],
 "metadata": {
  "kernelspec": {
   "display_name": "Python 3",
   "language": "python",
   "name": "python3"
  },
  "language_info": {
   "codemirror_mode": {
    "name": "ipython",
    "version": 3
   },
   "file_extension": ".py",
   "mimetype": "text/x-python",
   "name": "python",
   "nbconvert_exporter": "python",
   "pygments_lexer": "ipython3",
   "version": "3.12.6"
  }
 },
 "nbformat": 4,
 "nbformat_minor": 2
}
