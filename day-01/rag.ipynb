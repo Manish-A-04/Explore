{
 "cells": [
  {
   "cell_type": "code",
   "execution_count": 1,
   "metadata": {},
   "outputs": [],
   "source": [
    "from langchain.vectorstores import Chroma\n",
    "from langchain.embeddings.ollama import OllamaEmbeddings\n",
    "from langchain_community.document_loaders import PyPDFLoader\n",
    "from langchain.text_splitter import RecursiveCharacterTextSplitter\n"
   ]
  },
  {
   "cell_type": "code",
   "execution_count": null,
   "metadata": {},
   "outputs": [],
   "source": [
    "\n",
    "pdf_loader = PyPDFLoader(\"svm.pdf\")\n",
    "documents_raw = pdf_loader.load()\n",
    "text_splitter = RecursiveCharacterTextSplitter(chunk_size=1000,chunk_overlap=200)\n",
    "documents = text_splitter.split_documents(documents=documents_raw)\n"
   ]
  },
  {
   "cell_type": "code",
   "execution_count": null,
   "metadata": {},
   "outputs": [],
   "source": [
    "embedding_model = OllamaEmbeddings(model=\"nomic-embed-text:latest\")\n",
    "db = Chroma()\n",
    "embeddings_vectorstore = db.from_documents(documents,embedding_model)\n",
    "retriever = embeddings_vectorstore.as_retriever()\n"
   ]
  },
  {
   "cell_type": "code",
   "execution_count": null,
   "metadata": {},
   "outputs": [],
   "source": [
    "from langchain_community.llms import ollama\n",
    "from langchain.prompts import ChatPromptTemplate"
   ]
  },
  {
   "cell_type": "code",
   "execution_count": null,
   "metadata": {},
   "outputs": [],
   "source": [
    "llm = ollama.Ollama(model=\"mistral:latest\")\n",
    "prompt = ChatPromptTemplate.from_template(\n",
    "    \"You are an assistant for explaining things in a clear and concise manner,\\\n",
    "        Use the context to give a detailed answer based on the user query, \\\n",
    "            <context> {context} </context> \\\n",
    "            <query> {input} </query>\"\n",
    ")"
   ]
  },
  {
   "cell_type": "code",
   "execution_count": null,
   "metadata": {},
   "outputs": [],
   "source": [
    "from langchain.chains.retrieval import create_retrieval_chain\n",
    "from langchain.chains.combine_documents import create_stuff_documents_chain\n",
    "\n",
    "combine_docs_chain = create_stuff_documents_chain(llm=llm,prompt=prompt)\n",
    "retrieval_chain = create_retrieval_chain(retriever=retriever,combine_docs_chain=combine_docs_chain)\n",
    "\n"
   ]
  },
  {
   "cell_type": "code",
   "execution_count": null,
   "metadata": {},
   "outputs": [],
   "source": [
    "retrieval_chain.invoke({\"input\":\"What is svm explain it briefly in about 200 words\"})"
   ]
  },
  {
   "cell_type": "markdown",
   "metadata": {},
   "source": [
    "Support Vector Machines (SVM) are a type of supervised machine learning algorithm used for classification and regression analysis. The primary goal of SVM is to find an optimal hyperplane that separates the data points of different classes in a way that maximizes the margin, which is the distance between the hyperplane and the nearest data points from each class (support vectors).\\n\\nIn simpler terms, SVM attempts to find the best line or plane that can accurately separate the given dataset into distinct groups. The hyperplane identified by SVM is not necessarily linear; it may be a curve in high-dimensional spaces. To handle nonlinear data, SVM uses a kernel trick to map the input data to a higher dimension where the data can be linearly separable.\\n\\nThe SVM algorithm involves solving a quadratic optimization problem, which finds the coefficients of the hyperplane (w and b) that maximize the margin while minimizing an error function. The error function measures the misclassification rate of the support vectors. By optimizing this function, SVM can find the hyperplane that provides the best balance between generalization performance (avoiding overfitting) and fitting the training data accurately.\\n\\nSVM has been successfully applied to various applications, such as time series prediction, face recognition, medical diagnosis, and more. Its theoretical foundations and experimental success encourage further research into its characteristics and potential uses. The report mentions that there are variations of standard SVM proposed in several papers, which can potentially improve the performance of SVM for specific tasks."
   ]
  },
  {
   "cell_type": "markdown",
   "metadata": {},
   "source": []
  },
  {
   "cell_type": "code",
   "execution_count": null,
   "metadata": {},
   "outputs": [],
   "source": []
  }
 ],
 "metadata": {
  "kernelspec": {
   "display_name": "Python 3",
   "language": "python",
   "name": "python3"
  },
  "language_info": {
   "codemirror_mode": {
    "name": "ipython",
    "version": 3
   },
   "file_extension": ".py",
   "mimetype": "text/x-python",
   "name": "python",
   "nbconvert_exporter": "python",
   "pygments_lexer": "ipython3",
   "version": "3.12.6"
  }
 },
 "nbformat": 4,
 "nbformat_minor": 2
}
